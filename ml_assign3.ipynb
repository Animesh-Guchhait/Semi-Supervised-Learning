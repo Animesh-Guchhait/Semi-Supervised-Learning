{
  "nbformat": 4,
  "nbformat_minor": 0,
  "metadata": {
    "colab": {
      "name": "ml_assign3.ipynb",
      "provenance": [],
      "collapsed_sections": [],
      "include_colab_link": true
    },
    "kernelspec": {
      "name": "python3",
      "display_name": "Python 3"
    },
    "language_info": {
      "name": "python"
    }
  },
  "cells": [
    {
      "cell_type": "markdown",
      "metadata": {
        "id": "view-in-github",
        "colab_type": "text"
      },
      "source": [
        "<a href=\"https://colab.research.google.com/github/Animesh-Guchhait/Semi-Supervised-Learning/blob/master/ml_assign3.ipynb\" target=\"_parent\"><img src=\"https://colab.research.google.com/assets/colab-badge.svg\" alt=\"Open In Colab\"/></a>"
      ]
    },
    {
      "cell_type": "code",
      "metadata": {
        "id": "ScayldC3h9rV"
      },
      "source": [
        "# Importing Packages:\n",
        "\n",
        "import numpy as np\n",
        "import pandas as pd\n",
        "import os\n",
        "import time\n",
        "import warnings\n",
        "from sklearn.model_selection import train_test_split\n",
        "warnings.filterwarnings('ignore' )\n",
        "# To plot pretty figures\n",
        "%matplotlib inline\n",
        "import matplotlib as mpl\n",
        "import matplotlib.pyplot as plt\n",
        "mpl.rc('axes', labelsize=14)\n",
        "mpl.rc('xtick', labelsize=12)\n",
        "mpl.rc('ytick', labelsize=12)\n",
        "import tensorflow as tf\n",
        "from tensorflow import keras"
      ],
      "execution_count": null,
      "outputs": []
    },
    {
      "cell_type": "markdown",
      "metadata": {
        "id": "ych5jpd9nony"
      },
      "source": [
        "Import fashion mnist data"
      ]
    },
    {
      "cell_type": "code",
      "metadata": {
        "id": "tHxx-HetqC5G",
        "colab": {
          "base_uri": "https://localhost:8080/"
        },
        "outputId": "881d0631-a180-422c-cc25-a3a2f746a7b0"
      },
      "source": [
        "fashion_mnist = keras.datasets.fashion_mnist\n",
        "(X_train1, y_train), (X_test1, y_test) = fashion_mnist.load_data()"
      ],
      "execution_count": null,
      "outputs": [
        {
          "output_type": "stream",
          "text": [
            "Downloading data from https://storage.googleapis.com/tensorflow/tf-keras-datasets/train-labels-idx1-ubyte.gz\n",
            "32768/29515 [=================================] - 0s 0us/step\n",
            "40960/29515 [=========================================] - 0s 0us/step\n",
            "Downloading data from https://storage.googleapis.com/tensorflow/tf-keras-datasets/train-images-idx3-ubyte.gz\n",
            "26427392/26421880 [==============================] - 0s 0us/step\n",
            "26435584/26421880 [==============================] - 0s 0us/step\n",
            "Downloading data from https://storage.googleapis.com/tensorflow/tf-keras-datasets/t10k-labels-idx1-ubyte.gz\n",
            "16384/5148 [===============================================================================================] - 0s 0us/step\n",
            "Downloading data from https://storage.googleapis.com/tensorflow/tf-keras-datasets/t10k-images-idx3-ubyte.gz\n",
            "4423680/4422102 [==============================] - 0s 0us/step\n",
            "4431872/4422102 [==============================] - 0s 0us/step\n"
          ],
          "name": "stdout"
        }
      ]
    },
    {
      "cell_type": "code",
      "metadata": {
        "id": "u8Qdpy28qJPF",
        "colab": {
          "base_uri": "https://localhost:8080/"
        },
        "outputId": "23af064e-0643-41b5-b460-a2253e556330"
      },
      "source": [
        "X_train1.shape"
      ],
      "execution_count": null,
      "outputs": [
        {
          "output_type": "execute_result",
          "data": {
            "text/plain": [
              "(60000, 28, 28)"
            ]
          },
          "metadata": {},
          "execution_count": 5
        }
      ]
    },
    {
      "cell_type": "code",
      "metadata": {
        "id": "G3LoIMOPqTGq",
        "colab": {
          "base_uri": "https://localhost:8080/"
        },
        "outputId": "13033837-cfa0-4a7b-ecff-dda2b9eb4c8c"
      },
      "source": [
        "X_train1.dtype"
      ],
      "execution_count": null,
      "outputs": [
        {
          "output_type": "execute_result",
          "data": {
            "text/plain": [
              "dtype('uint8')"
            ]
          },
          "metadata": {},
          "execution_count": 6
        }
      ]
    },
    {
      "cell_type": "code",
      "metadata": {
        "id": "enVijRawqXAs",
        "colab": {
          "base_uri": "https://localhost:8080/",
          "height": 248
        },
        "outputId": "caf13ad2-d834-495b-f42a-10d30322c282"
      },
      "source": [
        "plt.imshow(X_train1[0], cmap=\"binary\")\n",
        "plt.axis('off')\n",
        "plt.show()"
      ],
      "execution_count": null,
      "outputs": [
        {
          "output_type": "display_data",
          "data": {
            "image/png": "[encoded data removed]",
            "text/plain": [
              "<Figure size 432x288 with 1 Axes>"
            ]
          },
          "metadata": {
            "needs_background": "light"
          }
        }
      ]
    },
    {
      "cell_type": "markdown",
      "metadata": {
        "id": "dgp9cI7UVAsY"
      },
      "source": [
        "Reshape the data for logistic regression\n",
        "\n",
        "\n"
      ]
    },
    {
      "cell_type": "code",
      "metadata": {
        "id": "klgm2UqnVucI"
      },
      "source": [
        "nsamples, nx, ny = X_train1.shape\n",
        "X_train = X_train1.reshape((nsamples,nx*ny))\n",
        "nsamples, nx, ny = X_test1.shape\n",
        "X_test=X_test1.reshape((nsamples,nx*ny))\n"
      ],
      "execution_count": null,
      "outputs": []
    },
    {
      "cell_type": "markdown",
      "metadata": {
        "id": "fk93LhyBX53B"
      },
      "source": [
        "Standard scaling the data"
      ]
    },
    {
      "cell_type": "code",
      "metadata": {
        "id": "2tvuEpo5u7iz"
      },
      "source": [
        "from sklearn.preprocessing import StandardScaler\n",
        "train_dataset=StandardScaler().fit_transform(X_train)\n",
        "test_dataset=StandardScaler().fit_transform(X_test)\n"
      ],
      "execution_count": null,
      "outputs": []
    },
    {
      "cell_type": "code",
      "metadata": {
        "id": "IRlutXuPrWqh",
        "colab": {
          "base_uri": "https://localhost:8080/"
        },
        "outputId": "1b8ea96b-9f8b-499d-9e15-2715374f297f"
      },
      "source": [
        "train_dataset"
      ],
      "execution_count": null,
      "outputs": [
        {
          "output_type": "execute_result",
          "data": {
            "text/plain": [
              "array([[-0.00864371, -0.02322333, -0.03917806, ..., -0.15681128,\n",
              "        -0.08967308, -0.03414729],\n",
              "       [-0.00864371, -0.02322333, -0.03917806, ..., -0.15681128,\n",
              "        -0.08967308, -0.03414729],\n",
              "       [-0.00864371, -0.02322333, -0.03917806, ..., -0.15681128,\n",
              "        -0.08967308, -0.03414729],\n",
              "       ...,\n",
              "       [-0.00864371, -0.02322333, -0.03917806, ..., -0.15681128,\n",
              "        -0.08967308, -0.03414729],\n",
              "       [-0.00864371, -0.02322333, -0.03917806, ..., -0.15681128,\n",
              "        -0.08967308, -0.03414729],\n",
              "       [-0.00864371, -0.02322333, -0.03917806, ..., -0.15681128,\n",
              "        -0.08967308, -0.03414729]])"
            ]
          },
          "metadata": {},
          "execution_count": 5
        }
      ]
    },
    {
      "cell_type": "code",
      "metadata": {
        "id": "MvShbDAcwlWX",
        "colab": {
          "base_uri": "https://localhost:8080/"
        },
        "outputId": "49f85aa1-1297-48a9-ace6-05350253cbcb"
      },
      "source": [
        "y_train"
      ],
      "execution_count": null,
      "outputs": [
        {
          "output_type": "execute_result",
          "data": {
            "text/plain": [
              "array([9, 0, 0, ..., 3, 0, 5], dtype=uint8)"
            ]
          },
          "metadata": {},
          "execution_count": 6
        }
      ]
    },
    {
      "cell_type": "markdown",
      "metadata": {
        "id": "WjmF4ZdDX--o"
      },
      "source": [
        "Class name to Target Variable:"
      ]
    },
    {
      "cell_type": "code",
      "metadata": {
        "id": "pZqYfbB7wzGa"
      },
      "source": [
        "class_names = [\"T-shirt/top\", \"Trouser\", \"Pullover\", \"Dress\", \"Coat\",\n",
        "\"Sandal\", \"Shirt\", \"Sneaker\", \"Bag\", \"Ankle boot\"]"
      ],
      "execution_count": null,
      "outputs": []
    },
    {
      "cell_type": "code",
      "metadata": {
        "colab": {
          "base_uri": "https://localhost:8080/",
          "height": 35
        },
        "id": "J_bCcMTyw6uC",
        "outputId": "316b850f-3f70-4f17-fdab-acbeeb4cee8b"
      },
      "source": [
        "class_names[y_train[0]]"
      ],
      "execution_count": null,
      "outputs": [
        {
          "output_type": "execute_result",
          "data": {
            "application/vnd.google.colaboratory.intrinsic+json": {
              "type": "string"
            },
            "text/plain": [
              "'Ankle boot'"
            ]
          },
          "metadata": {},
          "execution_count": 13
        }
      ]
    },
    {
      "cell_type": "markdown",
      "metadata": {
        "id": "A6JHTDt7YH5H"
      },
      "source": [
        "Logistic regression on whole trainning data"
      ]
    },
    {
      "cell_type": "code",
      "metadata": {
        "id": "uWSd4THUu1f6"
      },
      "source": [
        "from sklearn.linear_model import LogisticRegression\n",
        "log_reg = LogisticRegression(multi_class=\"auto\", solver=\"lbfgs\", random_state=42)"
      ],
      "execution_count": null,
      "outputs": []
    },
    {
      "cell_type": "code",
      "metadata": {
        "id": "6LtCVSZAx8Tl",
        "colab": {
          "base_uri": "https://localhost:8080/"
        },
        "outputId": "e38334b8-edad-4b20-fb22-ebad4bdf1f87"
      },
      "source": [
        "log_reg.fit(train_dataset,y_train)"
      ],
      "execution_count": null,
      "outputs": [
        {
          "output_type": "execute_result",
          "data": {
            "text/plain": [
              "LogisticRegression(C=1.0, class_weight=None, dual=False, fit_intercept=True,\n",
              "                   intercept_scaling=1, l1_ratio=None, max_iter=100,\n",
              "                   multi_class='auto', n_jobs=None, penalty='l2',\n",
              "                   random_state=42, solver='lbfgs', tol=0.0001, verbose=0,\n",
              "                   warm_start=False)"
            ]
          },
          "metadata": {
            "tags": []
          },
          "execution_count": 15
        }
      ]
    },
    {
      "cell_type": "code",
      "metadata": {
        "colab": {
          "base_uri": "https://localhost:8080/"
        },
        "id": "SUrHgSCV3oQ3",
        "outputId": "05a5ef02-29ef-48f6-d5df-98195fca697f"
      },
      "source": [
        "log_reg.score(test_dataset, y_test)"
      ],
      "execution_count": null,
      "outputs": [
        {
          "output_type": "execute_result",
          "data": {
            "text/plain": [
              "0.8434"
            ]
          },
          "metadata": {
            "tags": []
          },
          "execution_count": 16
        }
      ]
    },
    {
      "cell_type": "markdown",
      "metadata": {
        "id": "E5-wJ2-OoUIp"
      },
      "source": [
        "So, by logistic regression on whole trainning data we get 84.34% accuracy on test data."
      ]
    },
    {
      "cell_type": "code",
      "metadata": {
        "id": "6QgiJc-uZ6oM"
      },
      "source": [
        "# log_reg on hyperparameter solver=\"liblinear\" & max_iter=200 :\n",
        "log_reg1 = LogisticRegression(multi_class=\"auto\",max_iter=200, solver=\"liblinear\", random_state=42)"
      ],
      "execution_count": null,
      "outputs": []
    },
    {
      "cell_type": "code",
      "metadata": {
        "colab": {
          "base_uri": "https://localhost:8080/"
        },
        "id": "4mfdw4cuL6pX",
        "outputId": "8adb9d34-b9b7-4fd9-aeb0-3d478052a135"
      },
      "source": [
        "# Logestic Regression on random datapoints[range of i]:\n",
        "l=[]\n",
        "for i in range(10,36):\n",
        "  X_trainn, X_te, y_trainn, y_te = train_test_split( train_dataset, y_train, train_size=i, random_state=42)\n",
        "  log_reg1.fit(X_trainn,y_trainn)\n",
        "  l.append(log_reg1.score(test_dataset,y_test))\n",
        "print(l) ## accuaracy of each i belongs to range (10,35)\n",
        "  "
      ],
      "execution_count": null,
      "outputs": [
        {
          "output_type": "stream",
          "text": [
            "[0.4646, 0.463, 0.4811, 0.4624, 0.5023, 0.4855, 0.51, 0.51, 0.507, 0.5051, 0.5017, 0.4868, 0.4944, 0.4852, 0.4944, 0.5, 0.5034, 0.5337, 0.5577, 0.5661, 0.5655, 0.5662, 0.5681, 0.5653, 0.5649, 0.5622]\n"
          ],
          "name": "stdout"
        }
      ]
    },
    {
      "cell_type": "code",
      "metadata": {
        "colab": {
          "base_uri": "https://localhost:8080/"
        },
        "id": "S75J7koQVeCv",
        "outputId": "85f3edf3-e959-4d54-84ee-0c72f28430b8"
      },
      "source": [
        "# Logestic Regression on first 'ith' datapoints:\n",
        "lt=[]\n",
        "for i in range(10,36):\n",
        "  log_reg1.fit(train_dataset[:i],y_train[:i])\n",
        "  lt.append(log_reg1.score(test_dataset,y_test))\n",
        "print(lt) ## accuaracy of each i belongs to range (10,35)\n",
        "\n"
      ],
      "execution_count": null,
      "outputs": [
        {
          "output_type": "stream",
          "text": [
            "[0.3605, 0.3681, 0.385, 0.3972, 0.386, 0.3974, 0.3977, 0.4331, 0.4365, 0.4417, 0.4477, 0.4801, 0.5103, 0.5346, 0.574, 0.5814, 0.5918, 0.5888, 0.5891, 0.5883, 0.5966, 0.6037, 0.6169, 0.6135, 0.6284, 0.6263]\n"
          ],
          "name": "stdout"
        }
      ]
    },
    {
      "cell_type": "code",
      "metadata": {
        "id": "F31EBnO-RGYt"
      },
      "source": [
        "from sklearn.cluster import KMeans"
      ],
      "execution_count": null,
      "outputs": []
    },
    {
      "cell_type": "code",
      "metadata": {
        "id": "vZA5Zo3SVm-v"
      },
      "source": [
        "kmeans = KMeans(n_clusters=10, random_state=42)\n",
        "X_digits_dist = kmeans.fit_transform(train_dataset)\n",
        "representative_digit_idx = np.argmin(X_digits_dist, axis=0)"
      ],
      "execution_count": null,
      "outputs": []
    },
    {
      "cell_type": "code",
      "metadata": {
        "colab": {
          "base_uri": "https://localhost:8080/"
        },
        "id": "riWy4j--VyNY",
        "outputId": "24fcf0f2-1962-4e83-bc89-792e757e19ca"
      },
      "source": [
        "representative_digit_idx"
      ],
      "execution_count": null,
      "outputs": [
        {
          "output_type": "execute_result",
          "data": {
            "text/plain": [
              "array([ 5548, 30111, 33913, 52006, 19280, 37935,  9065, 53863,  7605,\n",
              "       52337])"
            ]
          },
          "metadata": {},
          "execution_count": 10
        }
      ]
    },
    {
      "cell_type": "code",
      "metadata": {
        "colab": {
          "base_uri": "https://localhost:8080/"
        },
        "id": "S81ez0ayVtii",
        "outputId": "a5baefcf-e097-410b-b8ba-9b820adbe3c1"
      },
      "source": [
        "X_digits_dist"
      ],
      "execution_count": null,
      "outputs": [
        {
          "output_type": "execute_result",
          "data": {
            "text/plain": [
              "array([[30.69013753, 37.23511433, 36.79427169, ..., 38.2568279 ,\n",
              "        33.65077843, 39.1073764 ],\n",
              "       [37.2292297 , 44.00139757, 31.03983821, ..., 36.0169417 ,\n",
              "        42.46567002, 27.16797317],\n",
              "       [31.50531361, 21.37227541, 33.36425486, ..., 12.11239044,\n",
              "        40.95298073, 23.29002459],\n",
              "       ...,\n",
              "       [36.53348743, 38.66109531, 31.60815721, ..., 32.14915195,\n",
              "        43.48256272, 19.74223832],\n",
              "       [30.20760166, 20.74293118, 32.74704829, ..., 10.87047106,\n",
              "        37.67259727, 27.13636431],\n",
              "       [34.76014947, 16.70415204, 41.22499399, ..., 20.09402924,\n",
              "        41.61530897, 36.92349574]])"
            ]
          },
          "metadata": {},
          "execution_count": 9
        }
      ]
    },
    {
      "cell_type": "code",
      "metadata": {
        "id": "rHX1QbFdV357"
      },
      "source": [
        "X_cluster_dist = X_digits_dist[np.arange(len(train_dataset)),kmeans.labels_]"
      ],
      "execution_count": null,
      "outputs": []
    },
    {
      "cell_type": "code",
      "metadata": {
        "colab": {
          "base_uri": "https://localhost:8080/"
        },
        "id": "JOOOFWaIevZK",
        "outputId": "fe472950-97f5-49d4-c35f-7fb41b014697"
      },
      "source": [
        "[np.arange(len(train_dataset)),kmeans.labels_]\n",
        "#len(kmeans.labels_)"
      ],
      "execution_count": null,
      "outputs": [
        {
          "output_type": "execute_result",
          "data": {
            "text/plain": [
              "[array([    0,     1,     2, ..., 59997, 59998, 59999]),\n",
              " array([6, 5, 7, ..., 9, 7, 1], dtype=int32)]"
            ]
          },
          "metadata": {},
          "execution_count": 11
        }
      ]
    },
    {
      "cell_type": "code",
      "metadata": {
        "colab": {
          "base_uri": "https://localhost:8080/"
        },
        "id": "p7htbgnbbpFF",
        "outputId": "66c874b4-1080-491f-ff5c-c183246605e0"
      },
      "source": [
        "X_cluster_dist[1]"
      ],
      "execution_count": null,
      "outputs": [
        {
          "output_type": "execute_result",
          "data": {
            "text/plain": [
              "17.49157843263395"
            ]
          },
          "metadata": {},
          "execution_count": 56
        }
      ]
    },
    {
      "cell_type": "code",
      "metadata": {
        "id": "cL9RTW0gW2nc"
      },
      "source": [
        "X = np.array([[1, 2], [1, 4], [1, 0],\n",
        "             [10, 2], [10, 4], [10, 0]])\n",
        "kmeans1 = KMeans(n_clusters=2, random_state=0).fit_transform(X) "
      ],
      "execution_count": null,
      "outputs": []
    },
    {
      "cell_type": "code",
      "metadata": {
        "id": "IWj7B0mUhDjV"
      },
      "source": [
        "in_cluster = (kmeans.labels_ == 3)\n",
        "cluster_dist = X_cluster_dist[in_cluster]\n",
        "cutoff_distance = np.percentile(cluster_dist, 20)\n",
        "above_cutoff = (X_cluster_dist > cutoff_distance)\n",
        "X_cluster_dist[in_cluster & above_cutoff] = -1"
      ],
      "execution_count": null,
      "outputs": []
    },
    {
      "cell_type": "code",
      "metadata": {
        "colab": {
          "base_uri": "https://localhost:8080/"
        },
        "id": "JlM2ecD0hGpO",
        "outputId": "d90ca643-b031-41b3-d1d2-ab044d0c00ff"
      },
      "source": [
        "partially_propagated = (X_cluster_dist != -1)\n",
        "partially_propagated"
      ],
      "execution_count": null,
      "outputs": [
        {
          "output_type": "execute_result",
          "data": {
            "text/plain": [
              "array([ True,  True,  True, ...,  True,  True,  True])"
            ]
          },
          "metadata": {},
          "execution_count": 66
        }
      ]
    },
    {
      "cell_type": "code",
      "metadata": {
        "colab": {
          "base_uri": "https://localhost:8080/"
        },
        "id": "gO8yGoswW-08",
        "outputId": "9587fce1-2218-47d0-88a2-93cf17ceef39"
      },
      "source": [
        "cluster_dist = X_cluster_dist[in_cluster]\n",
        "len(cluster_dist)"
      ],
      "execution_count": null,
      "outputs": [
        {
          "output_type": "execute_result",
          "data": {
            "text/plain": [
              "7515"
            ]
          },
          "metadata": {},
          "execution_count": 60
        }
      ]
    },
    {
      "cell_type": "code",
      "metadata": {
        "colab": {
          "base_uri": "https://localhost:8080/"
        },
        "id": "_FAe25UKYw7u",
        "outputId": "9920d3d1-45be-4a78-cc0c-883ef88fbaeb"
      },
      "source": [
        "len(kmeans.labels_ == 2)"
      ],
      "execution_count": null,
      "outputs": [
        {
          "output_type": "execute_result",
          "data": {
            "text/plain": [
              "60000"
            ]
          },
          "metadata": {},
          "execution_count": 13
        }
      ]
    },
    {
      "cell_type": "code",
      "metadata": {
        "id": "bEIxOav19EFZ"
      },
      "source": [
        "# 20 percentile closest to the core point:\n",
        "percentile_closest = 20"
      ],
      "execution_count": null,
      "outputs": []
    },
    {
      "cell_type": "code",
      "metadata": {
        "id": "UCmOL6pXJnsl",
        "colab": {
          "base_uri": "https://localhost:8080/"
        },
        "outputId": "9a552085-a029-4db5-9396-3c6546444ef6"
      },
      "source": [
        "# Here two process code has considered:\n",
        "# 1)choosing the centroid of kmeans as a training datapoints to fit logestic regression:\n",
        "# 2)choosing 20 percentile closest datapoints to the centroids as training data and then fitting logestic regression:\n",
        "start=time.time()\n",
        "l_mean=[] # appened the accuracy of ith iteration in process 1\n",
        "l_mean_close=[]# appened the accuracy of ith iteration in process 2\n",
        "\n",
        "\n",
        "for i in range (10,36):\n",
        "  print('value of k' ,i)\n",
        "  kmeans = KMeans(n_clusters=i, random_state=42)\n",
        "  X_digits_dist = kmeans.fit_transform(train_dataset)\n",
        "  representative_digit_idx = np.argmin(X_digits_dist, axis=0)\n",
        "  X_representative_digits = train_dataset[representative_digit_idx]\n",
        "  y_representative_digits=y_train[representative_digit_idx]\n",
        "  log_reg1.fit(X_representative_digits,y_representative_digits)\n",
        "  l_mean.append(log_reg1.score(test_dataset,y_test))\n",
        "  X_cluster_dist = X_digits_dist[np.arange(len(train_dataset)), kmeans.labels_]\n",
        "  for j in range(i):\n",
        "    in_cluster = (kmeans.labels_ == j)\n",
        "    cluster_dist = X_cluster_dist[in_cluster]\n",
        "    cutoff_distance = np.percentile(cluster_dist, percentile_closest)\n",
        "    above_cutoff = (X_cluster_dist > cutoff_distance)\n",
        "    X_cluster_dist[in_cluster & above_cutoff] = -1\n",
        "  partially_propagated = (X_cluster_dist != -1)\n",
        "  X_train_partially_propagated = train_dataset[partially_propagated]\n",
        "  y_train_propagated = np.empty(len(X_train), dtype=np.int32)\n",
        "  for j in range(i):\n",
        "    y_train_propagated[kmeans.labels_==j] = y_representative_digits[j]\n",
        "  y_train_partially_propagated = y_train_propagated[partially_propagated]\n",
        "  log_reg1.fit(X_train_partially_propagated,y_train_partially_propagated)\n",
        "  l_mean_close.append(log_reg1.score(test_dataset,y_test))\n",
        "end=time.time()\n",
        "print(end-start)"
      ],
      "execution_count": null,
      "outputs": [
        {
          "output_type": "stream",
          "text": [
            "value of k 10\n",
            "value of k 11\n",
            "value of k 12\n",
            "value of k 13\n",
            "value of k 14\n",
            "value of k 15\n",
            "value of k 16\n",
            "value of k 17\n",
            "value of k 18\n",
            "value of k 19\n",
            "value of k 20\n",
            "value of k 21\n",
            "value of k 22\n",
            "value of k 23\n",
            "value of k 24\n",
            "value of k 25\n",
            "value of k 26\n",
            "value of k 27\n",
            "value of k 28\n",
            "value of k 29\n",
            "value of k 30\n",
            "value of k 31\n",
            "value of k 32\n",
            "value of k 33\n",
            "value of k 34\n",
            "value of k 35\n",
            "4752.682550430298\n"
          ],
          "name": "stdout"
        }
      ]
    },
    {
      "cell_type": "code",
      "metadata": {
        "colab": {
          "base_uri": "https://localhost:8080/"
        },
        "id": "FVXbOZNUWXi-",
        "outputId": "b05c85f9-8367-4410-daba-5844748d8755"
      },
      "source": [
        "print(lt) # first i points\n",
        "print(l)  # random i points\n",
        "print(l_mean) # after k_mean,taking only centroid\n",
        "print(l_mean_close) # after k_mean 20%\n"
      ],
      "execution_count": null,
      "outputs": [
        {
          "output_type": "stream",
          "text": [
            "[0.3605, 0.3681, 0.385, 0.3972, 0.386, 0.3974, 0.3977, 0.4331, 0.4365, 0.4417, 0.4477, 0.4801, 0.5103, 0.5346, 0.574, 0.5814, 0.5918, 0.5888, 0.5891, 0.5883, 0.5966, 0.6037, 0.6169, 0.6135, 0.6284, 0.6263]\n",
            "[0.4646, 0.463, 0.4811, 0.4624, 0.5023, 0.4855, 0.51, 0.51, 0.507, 0.5051, 0.5017, 0.4868, 0.4944, 0.4852, 0.4944, 0.5, 0.5034, 0.5337, 0.5577, 0.5661, 0.5655, 0.5662, 0.5681, 0.5653, 0.5649, 0.5622]\n",
            "[0.5393, 0.5254, 0.5363, 0.5235, 0.5824, 0.5942, 0.6205, 0.6422, 0.6556, 0.6054, 0.6488, 0.6552, 0.6522, 0.6415, 0.6413, 0.6401, 0.6394, 0.6272, 0.6377, 0.6419, 0.6358, 0.613, 0.6304, 0.6472, 0.6302, 0.6555]\n",
            "[0.5477, 0.5284, 0.5221, 0.5119, 0.5793, 0.5817, 0.5974, 0.6232, 0.638, 0.5938, 0.6245, 0.6415, 0.6463, 0.6219, 0.6201, 0.6321, 0.6335, 0.6289, 0.6277, 0.6192, 0.6113, 0.5909, 0.6138, 0.6089, 0.5876, 0.588]\n"
          ],
          "name": "stdout"
        }
      ]
    },
    {
      "cell_type": "code",
      "metadata": {
        "id": "42JQIltDxL6V",
        "colab": {
          "base_uri": "https://localhost:8080/"
        },
        "outputId": "458ad011-3ba1-4000-b18c-6382d0e4ad67"
      },
      "source": [
        "# Checking error rate change [between randomly selecting datapoints and selecting centroid after k-means ]:\n",
        "print(l_mean)\n",
        "t=l_mean[:]\n",
        "t.sort()\n",
        "l_rate=dict()\n",
        "l_rate_list=[]\n",
        "print('\\n')\n",
        "print('Top five accuracy from process1 ( k_mean with only centroid)')\n",
        "for i in range(len(l_mean)):\n",
        "  if l_mean[i] in t[len(t)-5:]:\n",
        "    print('k =',i+10, 'and accuracy is',l_mean[i])\n",
        "  l_rate_list.append(1-(1-l_mean[i])/(1-l[i]))\n",
        "  if 1-(1-l_mean[i])/(1-l[i]) in l_rate.keys():\n",
        "    l_rate[1-(1-l_mean[i])/(1-l[i])].append(i+10)\n",
        "  else:\n",
        "    l_rate[1-(1-l_mean[i])/(1-l[i])]=[i+10]\n",
        "print(\"\\n\")\n",
        "print('reduced error by percentage for each k ')\n",
        "p=sorted(l_rate)\n",
        "print(l_rate)\n",
        "print('\\n')\n",
        "print('Top 5 reducing in error rate')\n",
        "for i in range(5):\n",
        "  print(i+1,'number best reducing in error rate is',p[len(p)-i-1], 'and it for k =',l_rate[p[len(p)-i-1]])\n",
        "   "
      ],
      "execution_count": null,
      "outputs": [
        {
          "output_type": "stream",
          "text": [
            "[0.5393, 0.5254, 0.5363, 0.5235, 0.5824, 0.5942, 0.6205, 0.6422, 0.6556, 0.6054, 0.6488, 0.6552, 0.6522, 0.6415, 0.6413, 0.6401, 0.6394, 0.6272, 0.6377, 0.6419, 0.6358, 0.613, 0.6304, 0.6472, 0.6302, 0.6555]\n",
            "\n",
            "\n",
            "Top five accuracy from process1 ( k_mean with only centroid)\n",
            "k = 18 and accuracy is 0.6556\n",
            "k = 20 and accuracy is 0.6488\n",
            "k = 21 and accuracy is 0.6552\n",
            "k = 22 and accuracy is 0.6522\n",
            "k = 35 and accuracy is 0.6555\n",
            "\n",
            "\n",
            "reduced error by percentage for each k \n",
            "{0.13952185282032126: [10], 0.11620111731843563: [11], 0.10637887839660809: [12], 0.11365327380952384: [13], 0.16094032549728765: [14], 0.2112730806608356: [15], 0.2255102040816327: [16], 0.26979591836734695: [17], 0.3014198782961459: [18], 0.20266720549605988: [19], 0.2952036925546859: [20], 0.3281371784879189: [21], 0.3121044303797469: [22], 0.30361305361305346: [23], 0.29054588607594944: [24], 0.2802: [25], 0.27386226339105924: [26], 0.20051469011366074: [27], 0.18087271082975376: [28], 0.17469463009910113: [29], 0.16179516685845807: [30], 0.10788381742738584: [31], 0.14424635332252822: [32], 0.18840579710144922: [33], 0.15008044127786724: [34], 0.21311100959342155: [35]}\n",
            "\n",
            "\n",
            "Top 5 reducing in error rate\n",
            "1 number best reducing in error rate is 0.3281371784879189 and it for k = [21]\n",
            "2 number best reducing in error rate is 0.3121044303797469 and it for k = [22]\n",
            "3 number best reducing in error rate is 0.30361305361305346 and it for k = [23]\n",
            "4 number best reducing in error rate is 0.3014198782961459 and it for k = [18]\n",
            "5 number best reducing in error rate is 0.2952036925546859 and it for k = [20]\n"
          ],
          "name": "stdout"
        }
      ]
    },
    {
      "cell_type": "code",
      "metadata": {
        "colab": {
          "base_uri": "https://localhost:8080/"
        },
        "id": "uy_1g6fJCL8T",
        "outputId": "a2bf1a7f-ec3b-4111-d46e-025cdb7130fe"
      },
      "source": [
        "# Repeat process 1 and 2 for k=50:\n",
        "\n",
        "start=time.time()\n",
        "l1=[]\n",
        "l_mean1=[]\n",
        "l_mean_close1=[]\n",
        "print('value of k=50')\n",
        "X_trainn, X_te, y_trainn, y_te = train_test_split( train_dataset, y_train, train_size=50, random_state=42)\n",
        "log_reg1.fit(X_trainn,y_trainn)\n",
        "l1.append(log_reg1.score(test_dataset,y_test))\n",
        "kmeans = KMeans(n_clusters=50, random_state=42)\n",
        "X_digits_dist = kmeans.fit_transform(train_dataset)\n",
        "representative_digit_idx = np.argmin(X_digits_dist, axis=0)\n",
        "X_representative_digits = train_dataset[representative_digit_idx]\n",
        "y_representative_digits=y_train[representative_digit_idx]\n",
        "log_reg.fit(X_representative_digits,y_representative_digits)\n",
        "l_mean1.append(log_reg.score(test_dataset,y_test))\n",
        "X_cluster_dist = X_digits_dist[np.arange(len(train_dataset)), kmeans.labels_]\n",
        "for j in range(50):\n",
        "  in_cluster = (kmeans.labels_ == j)\n",
        "  cluster_dist = X_cluster_dist[in_cluster]\n",
        "  cutoff_distance = np.percentile(cluster_dist, percentile_closest)\n",
        "  above_cutoff = (X_cluster_dist > cutoff_distance)\n",
        "  X_cluster_dist[in_cluster & above_cutoff] = -1\n",
        "partially_propagated = (X_cluster_dist != -1)\n",
        "X_train_partially_propagated =train_dataset[partially_propagated]\n",
        "y_train_propagated = np.empty(len(X_train), dtype=np.int32)\n",
        "for j in range(50):\n",
        "  y_train_propagated[kmeans.labels_==j] = y_representative_digits[j]\n",
        "y_train_partially_propagated = y_train_propagated[partially_propagated]\n",
        "log_reg.fit(X_train_partially_propagated,y_train_partially_propagated)\n",
        "l_mean_close1.append(log_reg.score(test_dataset,y_test))\n",
        "end=time.time()\n",
        "print(end-start)\n"
      ],
      "execution_count": null,
      "outputs": [
        {
          "output_type": "stream",
          "text": [
            "value of k=50\n",
            "298.1033048629761\n"
          ],
          "name": "stdout"
        }
      ]
    },
    {
      "cell_type": "code",
      "metadata": {
        "colab": {
          "base_uri": "https://localhost:8080/"
        },
        "id": "IoJOPdouMNu_",
        "outputId": "24a80ef0-5ce2-4e08-cdaa-6ca91b133dae"
      },
      "source": [
        "print(l1)\n",
        "print(l_mean1)\n",
        "print(l_mean_close1)"
      ],
      "execution_count": null,
      "outputs": [
        {
          "output_type": "stream",
          "text": [
            "[0.5802]\n",
            "[0.6695]\n",
            "[0.6602]\n"
          ],
          "name": "stdout"
        }
      ]
    },
    {
      "cell_type": "markdown",
      "metadata": {
        "id": "Z-9feUqSMeCM"
      },
      "source": [
        "**Report:**\n",
        "\n",
        "Procedure of this assignment:\n",
        "\n",
        "1) We read fashion_mnist dataset from keras.\n",
        "\n",
        "\n",
        "2) Coding has done on four ways:\n",
        "  \n",
        "\n",
        "*   Fitting Logistic Regression on entire Dataset\n",
        "*   Fitting Logistic Regression on randomly selected datapoints.\n",
        "*   Fitting Logistic Regression on selected datapoints(selected      datapoints are centroid of k-means).\n",
        "Fitting Logistic Regression on 20 percentile of closest data selected with respect to centroid.\n",
        "\n",
        "\n",
        "**Observation:**\n",
        "\n",
        "1)Fitting Logistic Regression on entire Dataset accuracy is nearly 84%\n",
        "\n",
        "2)Fitting Logistic Regression on randomly selected datapoints accuracy is getting reduced gradually.\n",
        "\n",
        "3)Fitting Logistic Regression on selected datapoints(selected      datapoints are centroid of k-means) accuracy is still low but much better than randomly selected datapoints.\n",
        "\n",
        "4)Fitting Logistic Regression on 20 percentile of closest data selected with respect to centroid . Here accuracy is closest to above process(3) though most of the cases process 3 is better than 4. But result shows process 4 is better than process 2.\n",
        "\n",
        "Here we iterate the k-value from 10 to 35 and we observe that for k=18,20,21,22 (k_mean with only centroid) we get better accuracy and  reduce error rate (compared to randomly selected datapoints). So, if we have to do semi-supervised learning with k-mean, then value of k between 20 to 22 is prefereble.\n",
        "\n",
        "\n",
        "\n",
        "\n",
        "\n",
        "\n",
        "\n",
        "\n",
        "\n",
        "\n",
        "\n",
        "\n",
        "\n",
        "\n"
      ]
    }
  ]
}